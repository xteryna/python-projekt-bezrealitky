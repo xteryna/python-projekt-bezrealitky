{
 "cells": [
  {
   "cell_type": "code",
   "execution_count": 39,
   "metadata": {},
   "outputs": [],
   "source": [
    "import streamlit as st\n",
    "import requests\n",
    "from bs4 import BeautifulSoup\n",
    "import json"
   ]
  },
  {
   "cell_type": "code",
   "execution_count": 40,
   "metadata": {},
   "outputs": [],
   "source": [
    "base_url = 'https://www.bezrealitky.cz/vypis/nabidka-prodej/byt'\n",
    "property_urls = []\n",
    "page_number = 0"
   ]
  },
  {
   "cell_type": "code",
   "execution_count": 41,
   "metadata": {},
   "outputs": [
    {
     "name": "stdout",
     "output_type": "stream",
     "text": [
      "No more pages. Last page: 151.\n"
     ]
    }
   ],
   "source": [
    "while True:\n",
    "    page_number += 1\n",
    "    url = f'{base_url}?page={page_number}'\n",
    "    response = requests.get(url)\n",
    "\n",
    "    if response.url != url:\n",
    "        print(f\"No more pages. Last page: {page_number - 1}.\")\n",
    "        break\n",
    "\n",
    "    if response.status_code != 200:\n",
    "        print(f\"Failed to retrieve page {page_number}. Status code: {response.status_code}\")\n",
    "        break\n",
    "\n",
    "    page_content = response.text\n",
    "    soup = BeautifulSoup(page_content, 'html.parser')\n",
    "\n",
    "    # Najdeme všechny prvky <a> s atributem tabindex=\"-1\"\n",
    "    apartment_links = soup.find_all('a', {'tabindex': '-1'})\n",
    "\n",
    "    if not apartment_links:\n",
    "        print(f\"No apartment links found on page {page_number}. Stopping.\")\n",
    "        break\n",
    "\n",
    "    for link in apartment_links:\n",
    "        property_url = link['href']\n",
    "        property_urls.append(property_url)\n"
   ]
  }
 ],
 "metadata": {
  "kernelspec": {
   "display_name": "Python 3",
   "language": "python",
   "name": "python3"
  },
  "language_info": {
   "codemirror_mode": {
    "name": "ipython",
    "version": 3
   },
   "file_extension": ".py",
   "mimetype": "text/x-python",
   "name": "python",
   "nbconvert_exporter": "python",
   "pygments_lexer": "ipython3",
   "version": "3.11.3"
  }
 },
 "nbformat": 4,
 "nbformat_minor": 2
}
